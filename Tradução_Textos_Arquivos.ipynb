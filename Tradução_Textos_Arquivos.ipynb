{
  "nbformat": 4,
  "nbformat_minor": 0,
  "metadata": {
    "colab": {
      "provenance": [],
      "authorship_tag": "ABX9TyM4L2rVjjJ6EtYZ2nNkegzG",
      "include_colab_link": true
    },
    "kernelspec": {
      "name": "python3",
      "display_name": "Python 3"
    },
    "language_info": {
      "name": "python"
    }
  },
  "cells": [
    {
      "cell_type": "markdown",
      "metadata": {
        "id": "view-in-github",
        "colab_type": "text"
      },
      "source": [
        "<a href=\"https://colab.research.google.com/github/AdilsonLopes/Dio_Microsoft_AI_102/blob/main/Tradu%C3%A7%C3%A3o_Textos_Arquivos.ipynb\" target=\"_parent\"><img src=\"https://colab.research.google.com/assets/colab-badge.svg\" alt=\"Open In Colab\"/></a>"
      ]
    },
    {
      "cell_type": "code",
      "source": [
        "!pip install requests python-docx"
      ],
      "metadata": {
        "colab": {
          "base_uri": "https://localhost:8080/"
        },
        "id": "kqWVXsQXX-UT",
        "outputId": "5e21a279-2d1c-426b-bc4d-318d0ef2e72e"
      },
      "execution_count": 4,
      "outputs": [
        {
          "output_type": "stream",
          "name": "stdout",
          "text": [
            "Requirement already satisfied: requests in /usr/local/lib/python3.10/dist-packages (2.32.3)\n",
            "Collecting python-docx\n",
            "  Downloading python_docx-1.1.2-py3-none-any.whl.metadata (2.0 kB)\n",
            "Requirement already satisfied: charset-normalizer<4,>=2 in /usr/local/lib/python3.10/dist-packages (from requests) (3.4.0)\n",
            "Requirement already satisfied: idna<4,>=2.5 in /usr/local/lib/python3.10/dist-packages (from requests) (3.10)\n",
            "Requirement already satisfied: urllib3<3,>=1.21.1 in /usr/local/lib/python3.10/dist-packages (from requests) (2.2.3)\n",
            "Requirement already satisfied: certifi>=2017.4.17 in /usr/local/lib/python3.10/dist-packages (from requests) (2024.8.30)\n",
            "Requirement already satisfied: lxml>=3.1.0 in /usr/local/lib/python3.10/dist-packages (from python-docx) (5.3.0)\n",
            "Requirement already satisfied: typing-extensions>=4.9.0 in /usr/local/lib/python3.10/dist-packages (from python-docx) (4.12.2)\n",
            "Downloading python_docx-1.1.2-py3-none-any.whl (244 kB)\n",
            "\u001b[2K   \u001b[90m━━━━━━━━━━━━━━━━━━━━━━━━━━━━━━━━━━━━━━━━\u001b[0m \u001b[32m244.3/244.3 kB\u001b[0m \u001b[31m4.7 MB/s\u001b[0m eta \u001b[36m0:00:00\u001b[0m\n",
            "\u001b[?25hInstalling collected packages: python-docx\n",
            "Successfully installed python-docx-1.1.2\n"
          ]
        }
      ]
    },
    {
      "source": [
        "import requests\n",
        "from docx import Document\n",
        "import os\n",
        "import random\n",
        "\n",
        "\n",
        "subscription_key = \"17V8oGRk9Bd5Y7eXftw1hYNmWGpRHq9xBkXuOcN7IVGZ7SrDwu9OJQQJ99AKACYeBjFXJ3w3AAAbACOGvzqE\"\n",
        "endpoint = \"https://api.cognitive.microsofttranslator.com/\"\n",
        "location = \"eastus\"\n",
        "target_language = \"pt-br\"\n",
        "\n",
        "\n",
        "def translate_text(text, target_language):\n",
        "    path = '/translate'\n",
        "    constructed_url = endpoint + path\n",
        "    headers = {\n",
        "        'Ocp-Apim-Subscription-Key': subscription_key,\n",
        "        'Ocp-Apim-Subscription-Region': location,\n",
        "        'Content-type': 'application/json',\n",
        "        'X-ClientTraceId': str(os.urandom(16))\n",
        "    }\n",
        "\n",
        "    body = [{\n",
        "        'text': text\n",
        "    }]\n",
        "\n",
        "    params = {\n",
        "        'api-version': '3.0',\n",
        "        'from': 'en',\n",
        "        'to': [target_language]\n",
        "    }\n",
        "\n",
        "    # Incluindo params na requisição\n",
        "    request = requests.post(constructed_url, headers=headers, json=body, params=params)\n",
        "\n",
        "    response = request.json()\n",
        "\n",
        "    # Verifica se a resposta contém a estrutura esperada. Isso pode ajudar a identificar erros de resposta.\n",
        "    if \"error\" in response:\n",
        "        print(f\"Erro ao traduzir: {response['error']}\")\n",
        "        return \"Erro de Tradução\"\n",
        "    # Imprime a resposta para facilitar a depuração\n",
        "    return response[0][\"translations\"][0][\"text\"] # Assumindo que a estrutura da resposta permanece como esperado"
      ],
      "cell_type": "code",
      "metadata": {
        "id": "IrODu86TA8y9"
      },
      "execution_count": 43,
      "outputs": []
    },
    {
      "cell_type": "code",
      "source": [
        "translate_text(\"Its close to midnight And something evils lurking in the dark Under the moonlight \", target_language )"
      ],
      "metadata": {
        "colab": {
          "base_uri": "https://localhost:8080/",
          "height": 36
        },
        "id": "EK-L9k0nBGSF",
        "outputId": "36556a97-b092-42de-cc53-6ad5c9bed49c"
      },
      "execution_count": 44,
      "outputs": [
        {
          "output_type": "execute_result",
          "data": {
            "text/plain": [
              "'É perto da meia-noite E algo mal espreita no escuro Sob o luar '"
            ],
            "application/vnd.google.colaboratory.intrinsic+json": {
              "type": "string"
            }
          },
          "metadata": {},
          "execution_count": 44
        }
      ]
    },
    {
      "cell_type": "code",
      "source": [
        "def translate_document(path):\n",
        "    doc = Document(path)\n",
        "    full_text = []\n",
        "    for paragraph in doc.paragraphs:\n",
        "        translated_text = translate_text(paragraph.text, target_language)\n",
        "        full_text.append(translated_text)\n",
        "\n",
        "    translated_doc = Document()\n",
        "    for line in full_text:\n",
        "        print(line)\n",
        "        translated_doc.add_paragraph(line)\n",
        "    path_translated = path.replace('.docx', f'{target_language}.docx')\n",
        "    translated_doc.save(path_translated)\n",
        "    return path_translated\n",
        "\n",
        "input_file = \"/content/Musica.docx\"\n",
        "translate_document(input_file)\n"
      ],
      "metadata": {
        "colab": {
          "base_uri": "https://localhost:8080/",
          "height": 1000
        },
        "id": "jcsYkt29DeD1",
        "outputId": "77b0b854-a4cd-4071-e330-13d781bffa73"
      },
      "execution_count": 38,
      "outputs": [
        {
          "output_type": "stream",
          "name": "stdout",
          "text": [
            "É perto da meia-noite\n",
            "E algo maligno está à espreita no escuro\n",
            "Sob o luar\n",
            "Você vê uma visão que quase pára seu coração\n",
            "Você tenta gritar\n",
            "Mas o terror leva o som antes de você fazê-lo\n",
            "Você começa a congelar\n",
            "Como o horror olha bem entre os olhos\n",
            "Você está paralisado\n",
            "Porque isso é suspense, noite de suspense\n",
            "E ninguém vai te salvar da besta prestes a atacar\n",
            "Você sabe que é suspense, noite de suspense\n",
            "Você está lutando por sua vida dentro de um assassino, suspense esta noite, sim\n",
            "Ooh, ooh\n",
            "Você ouve a porta bater\n",
            "E perceber que não há mais para onde correr\n",
            "Você sente a mão fria\n",
            "E me pergunto se você vai ver o sol\n",
            "Você fecha os olhos\n",
            "E espero que isso seja apenas imaginação\n",
            "Garota, mas o tempo todo\n",
            "Você ouve uma criatura rastejando atrás\n",
            "Você está sem tempo\n",
            "Porque isso é suspense, noite de suspense\n",
            "Não há segunda chance contra a coisa com quarenta olhos, garota\n",
            "Thriller, noite de suspense\n",
            "Você está lutando por sua vida dentro de um assassino, suspense esta noite\n",
            "Criaturas noturnas chamam\n",
            "E os mortos começam a andar em seu baile de máscaras\n",
            "Não há como escapar das mandíbulas do alienígena desta vez (elas estão bem abertas)\n",
            "Este é o fim da sua vida, ooh\n",
            "Eles estão atrás de você\n",
            "Há demônios se aproximando por todos os lados\n",
            "Eles vão te possuir\n",
            "A menos que você altere esse número em seu mostrador\n",
            "Agora é a hora\n",
            "Para você e eu nos abraçarmos, sim\n",
            "Durante toda a noite\n",
            "Eu vou te salvar do terror na tela\n",
            "Eu vou fazer você ver\n",
            "Que isso é suspense, noite de suspense\n",
            "Porque eu posso emocioná-lo mais do que qualquer ghoul jamais ousaria tentar\n",
            "Thriller, noite de suspense\n",
            "Então deixe-me te abraçar forte e compartilhar um assassino, thriller\n",
            "Chiller, suspense aqui esta noite\n",
            "Porque isso é suspense, noite de suspense\n",
            "Garota, eu posso emocioná-la mais do que qualquer ghoul jamais ousaria tentar\n",
            "Thriller, noite de suspense\n",
            "Então deixe-me te abraçar forte e compartilhar um assassino, suspense, ow\n",
            "Eu vou te emocionar esta noite\n",
            "A escuridão cai sobre a terra\n",
            "A meia-noite está próxima\n",
            "Criaturas rastejam em busca de sangue\n",
            "Para aterrorizar a vizinhança de vocês (eu vou emocioná-los esta noite)\n",
            "E quem for encontrado\n",
            "Sem a alma para descer\n",
            "Deve ficar de pé e enfrentar os cães do inferno\n",
            "E apodrecer dentro da concha de um cadáver\n",
            "Eu vou te emocionar esta noite\n",
            "Thriller, ooh baby (suspense)\n",
            "Eu vou te emocionar esta noite (noite de suspense)\n",
            "Thriller, a noite toda, oh baby\n",
            "Eu vou te emocionar esta noite\n",
            "Thriller, noite de suspense (oh baby)\n",
            "Eu vou te emocionar esta noite\n",
            "Thriller, a noite toda (oh baby)\n",
            "Noite de suspense, querida (noite de suspense, querida), ooh\n",
            "O fedor mais fétido está no ar\n",
            "O funk de quarenta mil anos\n",
            "E ghouls pardos de cada tumba\n",
            "Estão se aproximando para selar sua condenação\n",
            "E embora você lute para permanecer vivo\n",
            "Seu corpo começa a tremer\n",
            "Pois nenhum mero mortal pode resistir\n",
            "O mal do thriller\n",
            "\n"
          ]
        },
        {
          "output_type": "execute_result",
          "data": {
            "text/plain": [
              "'/content/Musicapt-br.docx'"
            ],
            "application/vnd.google.colaboratory.intrinsic+json": {
              "type": "string"
            }
          },
          "metadata": {},
          "execution_count": 38
        }
      ]
    },
    {
      "cell_type": "code",
      "source": [
        "input_file = \"/content/Musica.docx\"\n",
        "translate_document(input_file)"
      ],
      "metadata": {
        "colab": {
          "base_uri": "https://localhost:8080/",
          "height": 36
        },
        "id": "6jOzDxnUGLlW",
        "outputId": "c3f75ab3-cab7-452d-b03c-db36ebd04cf3"
      },
      "execution_count": 28,
      "outputs": [
        {
          "output_type": "execute_result",
          "data": {
            "text/plain": [
              "'/content/Musicapt-br.docx'"
            ],
            "application/vnd.google.colaboratory.intrinsic+json": {
              "type": "string"
            }
          },
          "metadata": {},
          "execution_count": 28
        }
      ]
    }
  ]
}